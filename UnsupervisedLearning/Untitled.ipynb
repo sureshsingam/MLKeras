{
 "cells": [
  {
   "cell_type": "code",
   "execution_count": 1,
   "id": "c580eb27-fd1f-4bf6-b004-43a5e1da45d2",
   "metadata": {},
   "outputs": [
    {
     "ename": "SyntaxError",
     "evalue": "invalid syntax (548633844.py, line 1)",
     "output_type": "error",
     "traceback": [
      "\u001b[1;36m  Cell \u001b[1;32mIn[1], line 1\u001b[1;36m\u001b[0m\n\u001b[1;33m    d_loss[]\u001b[0m\n\u001b[1;37m           ^\u001b[0m\n\u001b[1;31mSyntaxError\u001b[0m\u001b[1;31m:\u001b[0m invalid syntax\n"
     ]
    }
   ],
   "source": [
    "d_loss[]\n"
   ]
  },
  {
   "cell_type": "code",
   "execution_count": 2,
   "id": "3179ef58-253f-4e55-ba20-a930bb2d417c",
   "metadata": {},
   "outputs": [],
   "source": [
    "d_loss = []"
   ]
  },
  {
   "cell_type": "code",
   "execution_count": 4,
   "id": "32e4141e-66e5-430a-b427-6967b847fe14",
   "metadata": {},
   "outputs": [
    {
     "data": {
      "text/plain": [
       "list"
      ]
     },
     "execution_count": 4,
     "metadata": {},
     "output_type": "execute_result"
    }
   ],
   "source": [
    "type(d_loss)"
   ]
  },
  {
   "cell_type": "code",
   "execution_count": 7,
   "id": "a2c27b3b-cae0-4acf-9c9e-76b862302b17",
   "metadata": {},
   "outputs": [],
   "source": [
    "d_loss.append(2)"
   ]
  },
  {
   "cell_type": "code",
   "execution_count": 9,
   "id": "e2de6b2b-9718-4e5b-bfb0-8efd683e2c31",
   "metadata": {},
   "outputs": [
    {
     "data": {
      "text/plain": [
       "1"
      ]
     },
     "execution_count": 9,
     "metadata": {},
     "output_type": "execute_result"
    }
   ],
   "source": [
    "d_loss[0]"
   ]
  },
  {
   "cell_type": "code",
   "execution_count": null,
   "id": "c2a72d88-dfdd-4fc5-ad97-23eb3b19f3ea",
   "metadata": {},
   "outputs": [],
   "source": []
  }
 ],
 "metadata": {
  "kernelspec": {
   "display_name": "Python 3 (ipykernel)",
   "language": "python",
   "name": "python3"
  },
  "language_info": {
   "codemirror_mode": {
    "name": "ipython",
    "version": 3
   },
   "file_extension": ".py",
   "mimetype": "text/x-python",
   "name": "python",
   "nbconvert_exporter": "python",
   "pygments_lexer": "ipython3",
   "version": "3.11.9"
  }
 },
 "nbformat": 4,
 "nbformat_minor": 5
}
